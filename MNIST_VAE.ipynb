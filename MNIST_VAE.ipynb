{
  "nbformat": 4,
  "nbformat_minor": 0,
  "metadata": {
    "colab": {
      "name": "MNIST VAE",
      "provenance": []
    },
    "kernelspec": {
      "name": "python3",
      "display_name": "Python 3"
    },
    "accelerator": "GPU"
  },
  "cells": [
    {
      "cell_type": "code",
      "metadata": {
        "id": "27GpzQvQ9wZB"
      },
      "source": [
        "!wget https://developer.nvidia.com/compute/cuda/9.2/Prod/local_installers/cuda-repo-ubuntu1710-9-2-local_9.2.88-1_amd64\n",
        "!wget https://developer.nvidia.com/compute/cuda/9.2/Prod/patches/1/cuda-repo-ubuntu1710-9-2-local-cublas-update-1_1.0-1_amd64\n",
        "!dpkg -i cuda-repo-ubuntu1710-9-2-local_9.2.88-1_amd64\n",
        "!apt-key add /var/cuda-repo-9-2-local/7fa2af80.pub\n",
        "!apt-get update\n",
        "!apt-get install cuda\n",
        "!dpkg -i cuda-repo-ubuntu1710-9-2-local-cublas-update-1_1.0-1_amd64\n",
        "!ls"
      ],
      "execution_count": null,
      "outputs": []
    },
    {
      "cell_type": "code",
      "metadata": {
        "id": "vxah9nI_CSGV",
        "colab": {
          "base_uri": "https://localhost:8080/",
          "height": 357
        },
        "outputId": "359e3fbe-db35-48f4-d9bb-4a1eff827852"
      },
      "source": [
        "!nvidia-smi"
      ],
      "execution_count": null,
      "outputs": [
        {
          "output_type": "stream",
          "text": [
            "Wed Jul  8 20:27:14 2020       \n",
            "+-----------------------------------------------------------------------------+\n",
            "| NVIDIA-SMI 450.51.05    Driver Version: 418.67       CUDA Version: 10.1     |\n",
            "|-------------------------------+----------------------+----------------------+\n",
            "| GPU  Name        Persistence-M| Bus-Id        Disp.A | Volatile Uncorr. ECC |\n",
            "| Fan  Temp  Perf  Pwr:Usage/Cap|         Memory-Usage | GPU-Util  Compute M. |\n",
            "|                               |                      |               MIG M. |\n",
            "|===============================+======================+======================|\n",
            "|   0  Tesla P100-PCIE...  Off  | 00000000:00:04.0 Off |                    0 |\n",
            "| N/A   39C    P0    32W / 250W |    741MiB / 16280MiB |      0%      Default |\n",
            "|                               |                      |                 ERR! |\n",
            "+-------------------------------+----------------------+----------------------+\n",
            "                                                                               \n",
            "+-----------------------------------------------------------------------------+\n",
            "| Processes:                                                                  |\n",
            "|  GPU   GI   CI        PID   Type   Process name                  GPU Memory |\n",
            "|        ID   ID                                                   Usage      |\n",
            "|=============================================================================|\n",
            "|  No running processes found                                                 |\n",
            "+-----------------------------------------------------------------------------+\n"
          ],
          "name": "stdout"
        }
      ]
    },
    {
      "cell_type": "code",
      "metadata": {
        "id": "MsHV6PsnGhcg"
      },
      "source": [
        "import torch\n",
        "import torch.nn as nn \n",
        "import torch.nn.functional as F\n",
        "import torch.optim as optim\n",
        "from torchvision import datasets, transforms\n",
        "from torch.autograd import Variable\n",
        "from torchvision.utils import save_image\n",
        "\n",
        "train_dataset = datasets.MNIST('./mnist_data/', train=True, transform=transforms.ToTensor(), download=True)\n",
        "test_dataset = datasets.MNIST('./mnist_data/', train=False, transform=transforms.ToTensor(), download=False)\n",
        "\n",
        "bs = 100\n",
        "train_loader = torch.utils.data.DataLoader(dataset=train_dataset, batch_size=bs, shuffle=True)\n",
        "test_loader = torch.utils.data.DataLoader(dataset=test_dataset, batch_size=bs, shuffle=False)"
      ],
      "execution_count": null,
      "outputs": []
    },
    {
      "cell_type": "code",
      "metadata": {
        "id": "k9bcapl1_hio",
        "colab": {
          "base_uri": "https://localhost:8080/",
          "height": 34
        },
        "outputId": "454019eb-1069-4928-d0f7-7818f3fe7bc5"
      },
      "source": [
        "torch.cuda.is_available()"
      ],
      "execution_count": null,
      "outputs": [
        {
          "output_type": "execute_result",
          "data": {
            "text/plain": [
              "True"
            ]
          },
          "metadata": {
            "tags": []
          },
          "execution_count": 21
        }
      ]
    },
    {
      "cell_type": "code",
      "metadata": {
        "id": "MiLUgNOuHwYI"
      },
      "source": [
        "class VAE(nn.Module):\n",
        "  def __init__(self, x_dim, h_dim1, h_dim2, z_dim):\n",
        "    super(VAE, self).__init__()\n",
        "    #encoder\n",
        "    self.f1 = nn.Linear(x_dim, h_dim1)\n",
        "    self.f2 = nn.Linear(h_dim1, h_dim2)\n",
        "    self.f3_1 = nn.Linear(h_dim2, z_dim)\n",
        "    self.f3_2 = nn.Linear(h_dim2, z_dim)\n",
        "    #decoder\n",
        "    self.f4 = nn.Linear(z_dim, h_dim2)\n",
        "    self.f5 = nn.Linear(h_dim2, h_dim1)\n",
        "    self.f6 = nn.Linear(h_dim1, x_dim)\n",
        "\n",
        "  def encoder(self, x):\n",
        "    h = F.relu(self.f1(x))\n",
        "    h = F.relu(self.f2(h))\n",
        "    return self.f3_1(h), self.f3_2(h) # mu, log_var\n",
        "    \n",
        "  def sampling(self, mu, log_var):\n",
        "    std = torch.exp(0.5*log_var)\n",
        "    eps = torch.randn_like(std)\n",
        "    return eps.mul(std).add_(mu) # return z sample\n",
        "        \n",
        "  def decoder(self, z):\n",
        "    h = F.relu(self.f4(z))\n",
        "    h = F.relu(self.f5(h))\n",
        "    return F.sigmoid(self.f6(h)) \n",
        "    \n",
        "  def forward(self, x):\n",
        "      mu, log_var = self.encoder(x.view(-1, 784))\n",
        "      z = self.sampling(mu, log_var)\n",
        "      return self.decoder(z), mu, log_var\n",
        "\n",
        "vae = VAE(x_dim=784, h_dim1=512, h_dim2=256, z_dim=2)\n",
        "if torch.cuda.is_available():\n",
        "    vae.cuda()"
      ],
      "execution_count": null,
      "outputs": []
    },
    {
      "cell_type": "code",
      "metadata": {
        "id": "HWKEh3aWJyQ4",
        "colab": {
          "base_uri": "https://localhost:8080/",
          "height": 170
        },
        "outputId": "d7d01f20-5601-46e0-d1fa-ac662ada8091"
      },
      "source": [
        "vae"
      ],
      "execution_count": null,
      "outputs": [
        {
          "output_type": "execute_result",
          "data": {
            "text/plain": [
              "VAE(\n",
              "  (f1): Linear(in_features=784, out_features=512, bias=True)\n",
              "  (f2): Linear(in_features=512, out_features=256, bias=True)\n",
              "  (f3_1): Linear(in_features=256, out_features=2, bias=True)\n",
              "  (f3_2): Linear(in_features=256, out_features=2, bias=True)\n",
              "  (f4): Linear(in_features=2, out_features=256, bias=True)\n",
              "  (f5): Linear(in_features=256, out_features=512, bias=True)\n",
              "  (f6): Linear(in_features=512, out_features=784, bias=True)\n",
              ")"
            ]
          },
          "metadata": {
            "tags": []
          },
          "execution_count": 23
        }
      ]
    },
    {
      "cell_type": "code",
      "metadata": {
        "id": "9YYSAHMCYIT0"
      },
      "source": [
        "optimizer = optim.Adam(vae.parameters())\n",
        "#loss functions\n",
        "def loss_function(recon_x, x, mu, log_var):\n",
        "  recon_loss = F.binary_cross_entropy(recon_x, x.view(-1, 28*28), reduction='sum')\n",
        "  KL = -0.5 * torch.sum(1 + log_var - mu.pow(2) - log_var.exp())\n",
        "  return recon_loss + KL\n"
      ],
      "execution_count": null,
      "outputs": []
    },
    {
      "cell_type": "code",
      "metadata": {
        "id": "bqef-A5mg7T-",
        "colab": {
          "base_uri": "https://localhost:8080/",
          "height": 34
        },
        "outputId": "16c42beb-6e79-4d6f-f6b0-1101a72b94ba"
      },
      "source": [
        "from google.colab import drive\n",
        "drive.mount('/content/gdrive')"
      ],
      "execution_count": null,
      "outputs": [
        {
          "output_type": "stream",
          "text": [
            "Drive already mounted at /content/gdrive; to attempt to forcibly remount, call drive.mount(\"/content/gdrive\", force_remount=True).\n"
          ],
          "name": "stdout"
        }
      ]
    },
    {
      "cell_type": "code",
      "metadata": {
        "id": "DRew__frbXF9"
      },
      "source": [
        "def train(epoch):\n",
        "    vae.train()\n",
        "    train_loss = 0\n",
        "    for batch_idx, (data, _) in enumerate(train_loader):\n",
        "        data = data.cuda()\n",
        "        optimizer.zero_grad()\n",
        "        \n",
        "        recon_batch, mu, log_var = vae(data)\n",
        "        loss = loss_function(recon_batch, data, mu, log_var)\n",
        "        \n",
        "        loss.backward()\n",
        "        train_loss += loss.item()\n",
        "        optimizer.step()\n",
        "        \n",
        "        if batch_idx % 100 == 0:\n",
        "            print('Train Epoch: {} [{}/{} ({:.0f}%)]\\tLoss: {:.6f}'.format(\n",
        "                epoch, batch_idx * len(data), len(train_loader.dataset),\n",
        "                100. * batch_idx / len(train_loader), loss.item() / len(data)))\n",
        "    print('====> Epoch: {} Average loss: {:.4f}'.format(epoch, train_loss / len(train_loader.dataset)))"
      ],
      "execution_count": null,
      "outputs": []
    },
    {
      "cell_type": "code",
      "metadata": {
        "id": "gufwE5mLb5Zv"
      },
      "source": [
        "def test():\n",
        "    vae.eval()\n",
        "    test_loss= 0\n",
        "    with torch.no_grad():\n",
        "        for data, _ in test_loader:\n",
        "            data = data.cuda()\n",
        "            recon, mu, log_var = vae(data)\n",
        "            \n",
        "            # sum up batch loss\n",
        "            test_loss += loss_function(recon, data, mu, log_var).item()\n",
        "        \n",
        "    test_loss /= len(test_loader.dataset)\n",
        "    print('====> Test set loss: {:.4f}'.format(test_loss))"
      ],
      "execution_count": null,
      "outputs": []
    },
    {
      "cell_type": "code",
      "metadata": {
        "id": "zksQwctfcT-b"
      },
      "source": [
        "for epoch in range(1, 51):\n",
        "  train(epoch)\n",
        "  test()"
      ],
      "execution_count": null,
      "outputs": []
    },
    {
      "cell_type": "code",
      "metadata": {
        "id": "k0uoW6DhCoVV",
        "colab": {
          "base_uri": "https://localhost:8080/",
          "height": 54
        },
        "outputId": "5f8d947e-acd4-44b6-a40d-3557ee2addaa"
      },
      "source": [
        "torch.save(vae.state_dict(), '/content/gdrive/My Drive/checkpoint.pth')\n",
        "state_dict = torch.load('/content/gdrive/My Drive/checkpoint.pth')\n",
        "print(state_dict.keys())"
      ],
      "execution_count": null,
      "outputs": [
        {
          "output_type": "stream",
          "text": [
            "odict_keys(['f1.weight', 'f1.bias', 'f2.weight', 'f2.bias', 'f3_1.weight', 'f3_1.bias', 'f3_2.weight', 'f3_2.bias', 'f4.weight', 'f4.bias', 'f5.weight', 'f5.bias', 'f6.weight', 'f6.bias'])\n"
          ],
          "name": "stdout"
        }
      ]
    },
    {
      "cell_type": "code",
      "metadata": {
        "id": "Y0KAwZy1DBye",
        "colab": {
          "base_uri": "https://localhost:8080/",
          "height": 34
        },
        "outputId": "91e8837c-96a2-48e9-e1e3-a167079c559c"
      },
      "source": [
        "vae.load_state_dict(state_dict)"
      ],
      "execution_count": null,
      "outputs": [
        {
          "output_type": "execute_result",
          "data": {
            "text/plain": [
              "<All keys matched successfully>"
            ]
          },
          "metadata": {
            "tags": []
          },
          "execution_count": 28
        }
      ]
    },
    {
      "cell_type": "code",
      "metadata": {
        "id": "g_bpw_OZcvdD",
        "colab": {
          "base_uri": "https://localhost:8080/",
          "height": 51
        },
        "outputId": "1959b3d8-3683-443d-de89-e235e6ea9d70"
      },
      "source": [
        "with torch.no_grad():\n",
        "    z = torch.randn(64, 2).cuda()\n",
        "    sample = vae.decoder(z).cuda()\n",
        "    \n",
        "    save_image(sample.view(64, 1, 28, 28), '/content/gdrive/My Drive/samples/sample5' + '.png')"
      ],
      "execution_count": null,
      "outputs": [
        {
          "output_type": "stream",
          "text": [
            "/usr/local/lib/python3.6/dist-packages/torch/nn/functional.py:1569: UserWarning: nn.functional.sigmoid is deprecated. Use torch.sigmoid instead.\n",
            "  warnings.warn(\"nn.functional.sigmoid is deprecated. Use torch.sigmoid instead.\")\n"
          ],
          "name": "stderr"
        }
      ]
    }
  ]
}